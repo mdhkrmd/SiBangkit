{
 "cells": [
  {
   "cell_type": "code",
   "execution_count": 1,
   "id": "f4fa8f3a",
   "metadata": {},
   "outputs": [],
   "source": [
    "import numpy as np\n",
    "import pandas as pd\n",
    "import matplotlib.pyplot as plt\n",
    "import seaborn as sns\n",
    "\n",
    "from sklearn.model_selection import train_test_split\n",
    "from sklearn.pipeline import Pipeline\n",
    "from sklearn.compose import ColumnTransformer"
   ]
  },
  {
   "cell_type": "code",
   "execution_count": 2,
   "id": "209f36b7",
   "metadata": {},
   "outputs": [
    {
     "data": {
      "text/html": [
       "<div>\n",
       "<style scoped>\n",
       "    .dataframe tbody tr th:only-of-type {\n",
       "        vertical-align: middle;\n",
       "    }\n",
       "\n",
       "    .dataframe tbody tr th {\n",
       "        vertical-align: top;\n",
       "    }\n",
       "\n",
       "    .dataframe thead th {\n",
       "        text-align: right;\n",
       "    }\n",
       "</style>\n",
       "<table border=\"1\" class=\"dataframe\">\n",
       "  <thead>\n",
       "    <tr style=\"text-align: right;\">\n",
       "      <th></th>\n",
       "      <th>Pregnancies</th>\n",
       "      <th>Glucose</th>\n",
       "      <th>BloodPressure</th>\n",
       "      <th>SkinThickness</th>\n",
       "      <th>Insulin</th>\n",
       "      <th>BMI</th>\n",
       "      <th>DiabetesPedigreeFunction</th>\n",
       "      <th>Age</th>\n",
       "      <th>Outcome</th>\n",
       "    </tr>\n",
       "  </thead>\n",
       "  <tbody>\n",
       "    <tr>\n",
       "      <th>0</th>\n",
       "      <td>6</td>\n",
       "      <td>148</td>\n",
       "      <td>72</td>\n",
       "      <td>35</td>\n",
       "      <td>0</td>\n",
       "      <td>33.6</td>\n",
       "      <td>0.627</td>\n",
       "      <td>50</td>\n",
       "      <td>1</td>\n",
       "    </tr>\n",
       "    <tr>\n",
       "      <th>1</th>\n",
       "      <td>1</td>\n",
       "      <td>85</td>\n",
       "      <td>66</td>\n",
       "      <td>29</td>\n",
       "      <td>0</td>\n",
       "      <td>26.6</td>\n",
       "      <td>0.351</td>\n",
       "      <td>31</td>\n",
       "      <td>0</td>\n",
       "    </tr>\n",
       "    <tr>\n",
       "      <th>2</th>\n",
       "      <td>8</td>\n",
       "      <td>183</td>\n",
       "      <td>64</td>\n",
       "      <td>0</td>\n",
       "      <td>0</td>\n",
       "      <td>23.3</td>\n",
       "      <td>0.672</td>\n",
       "      <td>32</td>\n",
       "      <td>1</td>\n",
       "    </tr>\n",
       "    <tr>\n",
       "      <th>3</th>\n",
       "      <td>1</td>\n",
       "      <td>89</td>\n",
       "      <td>66</td>\n",
       "      <td>23</td>\n",
       "      <td>94</td>\n",
       "      <td>28.1</td>\n",
       "      <td>0.167</td>\n",
       "      <td>21</td>\n",
       "      <td>0</td>\n",
       "    </tr>\n",
       "    <tr>\n",
       "      <th>4</th>\n",
       "      <td>0</td>\n",
       "      <td>137</td>\n",
       "      <td>40</td>\n",
       "      <td>35</td>\n",
       "      <td>168</td>\n",
       "      <td>43.1</td>\n",
       "      <td>2.288</td>\n",
       "      <td>33</td>\n",
       "      <td>1</td>\n",
       "    </tr>\n",
       "    <tr>\n",
       "      <th>...</th>\n",
       "      <td>...</td>\n",
       "      <td>...</td>\n",
       "      <td>...</td>\n",
       "      <td>...</td>\n",
       "      <td>...</td>\n",
       "      <td>...</td>\n",
       "      <td>...</td>\n",
       "      <td>...</td>\n",
       "      <td>...</td>\n",
       "    </tr>\n",
       "    <tr>\n",
       "      <th>763</th>\n",
       "      <td>10</td>\n",
       "      <td>101</td>\n",
       "      <td>76</td>\n",
       "      <td>48</td>\n",
       "      <td>180</td>\n",
       "      <td>32.9</td>\n",
       "      <td>0.171</td>\n",
       "      <td>63</td>\n",
       "      <td>0</td>\n",
       "    </tr>\n",
       "    <tr>\n",
       "      <th>764</th>\n",
       "      <td>2</td>\n",
       "      <td>122</td>\n",
       "      <td>70</td>\n",
       "      <td>27</td>\n",
       "      <td>0</td>\n",
       "      <td>36.8</td>\n",
       "      <td>0.340</td>\n",
       "      <td>27</td>\n",
       "      <td>0</td>\n",
       "    </tr>\n",
       "    <tr>\n",
       "      <th>765</th>\n",
       "      <td>5</td>\n",
       "      <td>121</td>\n",
       "      <td>72</td>\n",
       "      <td>23</td>\n",
       "      <td>112</td>\n",
       "      <td>26.2</td>\n",
       "      <td>0.245</td>\n",
       "      <td>30</td>\n",
       "      <td>0</td>\n",
       "    </tr>\n",
       "    <tr>\n",
       "      <th>766</th>\n",
       "      <td>1</td>\n",
       "      <td>126</td>\n",
       "      <td>60</td>\n",
       "      <td>0</td>\n",
       "      <td>0</td>\n",
       "      <td>30.1</td>\n",
       "      <td>0.349</td>\n",
       "      <td>47</td>\n",
       "      <td>1</td>\n",
       "    </tr>\n",
       "    <tr>\n",
       "      <th>767</th>\n",
       "      <td>1</td>\n",
       "      <td>93</td>\n",
       "      <td>70</td>\n",
       "      <td>31</td>\n",
       "      <td>0</td>\n",
       "      <td>30.4</td>\n",
       "      <td>0.315</td>\n",
       "      <td>23</td>\n",
       "      <td>0</td>\n",
       "    </tr>\n",
       "  </tbody>\n",
       "</table>\n",
       "<p>768 rows × 9 columns</p>\n",
       "</div>"
      ],
      "text/plain": [
       "     Pregnancies  Glucose  BloodPressure  SkinThickness  Insulin   BMI  \\\n",
       "0              6      148             72             35        0  33.6   \n",
       "1              1       85             66             29        0  26.6   \n",
       "2              8      183             64              0        0  23.3   \n",
       "3              1       89             66             23       94  28.1   \n",
       "4              0      137             40             35      168  43.1   \n",
       "..           ...      ...            ...            ...      ...   ...   \n",
       "763           10      101             76             48      180  32.9   \n",
       "764            2      122             70             27        0  36.8   \n",
       "765            5      121             72             23      112  26.2   \n",
       "766            1      126             60              0        0  30.1   \n",
       "767            1       93             70             31        0  30.4   \n",
       "\n",
       "     DiabetesPedigreeFunction  Age  Outcome  \n",
       "0                       0.627   50        1  \n",
       "1                       0.351   31        0  \n",
       "2                       0.672   32        1  \n",
       "3                       0.167   21        0  \n",
       "4                       2.288   33        1  \n",
       "..                        ...  ...      ...  \n",
       "763                     0.171   63        0  \n",
       "764                     0.340   27        0  \n",
       "765                     0.245   30        0  \n",
       "766                     0.349   47        1  \n",
       "767                     0.315   23        0  \n",
       "\n",
       "[768 rows x 9 columns]"
      ]
     },
     "execution_count": 2,
     "metadata": {},
     "output_type": "execute_result"
    }
   ],
   "source": [
    "ds = pd.read_csv('dataset/diabetes.csv')\n",
    "ds"
   ]
  },
  {
   "cell_type": "code",
   "execution_count": 3,
   "id": "dd1004e3",
   "metadata": {},
   "outputs": [
    {
     "data": {
      "text/plain": [
       "Pregnancies                   int64\n",
       "Glucose                       int64\n",
       "BloodPressure                 int64\n",
       "SkinThickness                 int64\n",
       "Insulin                       int64\n",
       "BMI                         float64\n",
       "DiabetesPedigreeFunction    float64\n",
       "Age                           int64\n",
       "Outcome                       int64\n",
       "dtype: object"
      ]
     },
     "execution_count": 3,
     "metadata": {},
     "output_type": "execute_result"
    }
   ],
   "source": [
    "ds.dtypes"
   ]
  },
  {
   "cell_type": "markdown",
   "id": "3ddbdc2d",
   "metadata": {},
   "source": [
    "# EDA"
   ]
  },
  {
   "cell_type": "code",
   "execution_count": 4,
   "id": "a26ae386",
   "metadata": {},
   "outputs": [
    {
     "data": {
      "text/html": [
       "<div>\n",
       "<style scoped>\n",
       "    .dataframe tbody tr th:only-of-type {\n",
       "        vertical-align: middle;\n",
       "    }\n",
       "\n",
       "    .dataframe tbody tr th {\n",
       "        vertical-align: top;\n",
       "    }\n",
       "\n",
       "    .dataframe thead th {\n",
       "        text-align: right;\n",
       "    }\n",
       "</style>\n",
       "<table border=\"1\" class=\"dataframe\">\n",
       "  <thead>\n",
       "    <tr style=\"text-align: right;\">\n",
       "      <th></th>\n",
       "      <th>Pregnancies</th>\n",
       "      <th>Glucose</th>\n",
       "      <th>BloodPressure</th>\n",
       "      <th>SkinThickness</th>\n",
       "      <th>Insulin</th>\n",
       "      <th>BMI</th>\n",
       "      <th>DiabetesPedigreeFunction</th>\n",
       "      <th>Age</th>\n",
       "      <th>Outcome</th>\n",
       "    </tr>\n",
       "  </thead>\n",
       "  <tbody>\n",
       "    <tr>\n",
       "      <th>count</th>\n",
       "      <td>768.000000</td>\n",
       "      <td>768.000000</td>\n",
       "      <td>768.000000</td>\n",
       "      <td>768.000000</td>\n",
       "      <td>768.000000</td>\n",
       "      <td>768.000000</td>\n",
       "      <td>768.000000</td>\n",
       "      <td>768.000000</td>\n",
       "      <td>768.000000</td>\n",
       "    </tr>\n",
       "    <tr>\n",
       "      <th>mean</th>\n",
       "      <td>3.845052</td>\n",
       "      <td>120.894531</td>\n",
       "      <td>69.105469</td>\n",
       "      <td>20.536458</td>\n",
       "      <td>79.799479</td>\n",
       "      <td>31.992578</td>\n",
       "      <td>0.471876</td>\n",
       "      <td>33.240885</td>\n",
       "      <td>0.348958</td>\n",
       "    </tr>\n",
       "    <tr>\n",
       "      <th>std</th>\n",
       "      <td>3.369578</td>\n",
       "      <td>31.972618</td>\n",
       "      <td>19.355807</td>\n",
       "      <td>15.952218</td>\n",
       "      <td>115.244002</td>\n",
       "      <td>7.884160</td>\n",
       "      <td>0.331329</td>\n",
       "      <td>11.760232</td>\n",
       "      <td>0.476951</td>\n",
       "    </tr>\n",
       "    <tr>\n",
       "      <th>min</th>\n",
       "      <td>0.000000</td>\n",
       "      <td>0.000000</td>\n",
       "      <td>0.000000</td>\n",
       "      <td>0.000000</td>\n",
       "      <td>0.000000</td>\n",
       "      <td>0.000000</td>\n",
       "      <td>0.078000</td>\n",
       "      <td>21.000000</td>\n",
       "      <td>0.000000</td>\n",
       "    </tr>\n",
       "    <tr>\n",
       "      <th>25%</th>\n",
       "      <td>1.000000</td>\n",
       "      <td>99.000000</td>\n",
       "      <td>62.000000</td>\n",
       "      <td>0.000000</td>\n",
       "      <td>0.000000</td>\n",
       "      <td>27.300000</td>\n",
       "      <td>0.243750</td>\n",
       "      <td>24.000000</td>\n",
       "      <td>0.000000</td>\n",
       "    </tr>\n",
       "    <tr>\n",
       "      <th>50%</th>\n",
       "      <td>3.000000</td>\n",
       "      <td>117.000000</td>\n",
       "      <td>72.000000</td>\n",
       "      <td>23.000000</td>\n",
       "      <td>30.500000</td>\n",
       "      <td>32.000000</td>\n",
       "      <td>0.372500</td>\n",
       "      <td>29.000000</td>\n",
       "      <td>0.000000</td>\n",
       "    </tr>\n",
       "    <tr>\n",
       "      <th>75%</th>\n",
       "      <td>6.000000</td>\n",
       "      <td>140.250000</td>\n",
       "      <td>80.000000</td>\n",
       "      <td>32.000000</td>\n",
       "      <td>127.250000</td>\n",
       "      <td>36.600000</td>\n",
       "      <td>0.626250</td>\n",
       "      <td>41.000000</td>\n",
       "      <td>1.000000</td>\n",
       "    </tr>\n",
       "    <tr>\n",
       "      <th>max</th>\n",
       "      <td>17.000000</td>\n",
       "      <td>199.000000</td>\n",
       "      <td>122.000000</td>\n",
       "      <td>99.000000</td>\n",
       "      <td>846.000000</td>\n",
       "      <td>67.100000</td>\n",
       "      <td>2.420000</td>\n",
       "      <td>81.000000</td>\n",
       "      <td>1.000000</td>\n",
       "    </tr>\n",
       "  </tbody>\n",
       "</table>\n",
       "</div>"
      ],
      "text/plain": [
       "       Pregnancies     Glucose  BloodPressure  SkinThickness     Insulin  \\\n",
       "count   768.000000  768.000000     768.000000     768.000000  768.000000   \n",
       "mean      3.845052  120.894531      69.105469      20.536458   79.799479   \n",
       "std       3.369578   31.972618      19.355807      15.952218  115.244002   \n",
       "min       0.000000    0.000000       0.000000       0.000000    0.000000   \n",
       "25%       1.000000   99.000000      62.000000       0.000000    0.000000   \n",
       "50%       3.000000  117.000000      72.000000      23.000000   30.500000   \n",
       "75%       6.000000  140.250000      80.000000      32.000000  127.250000   \n",
       "max      17.000000  199.000000     122.000000      99.000000  846.000000   \n",
       "\n",
       "              BMI  DiabetesPedigreeFunction         Age     Outcome  \n",
       "count  768.000000                768.000000  768.000000  768.000000  \n",
       "mean    31.992578                  0.471876   33.240885    0.348958  \n",
       "std      7.884160                  0.331329   11.760232    0.476951  \n",
       "min      0.000000                  0.078000   21.000000    0.000000  \n",
       "25%     27.300000                  0.243750   24.000000    0.000000  \n",
       "50%     32.000000                  0.372500   29.000000    0.000000  \n",
       "75%     36.600000                  0.626250   41.000000    1.000000  \n",
       "max     67.100000                  2.420000   81.000000    1.000000  "
      ]
     },
     "execution_count": 4,
     "metadata": {},
     "output_type": "execute_result"
    }
   ],
   "source": [
    "ds.describe()"
   ]
  },
  {
   "cell_type": "markdown",
   "id": "aab2c67d",
   "metadata": {},
   "source": [
    "### Check Missing Value"
   ]
  },
  {
   "cell_type": "code",
   "execution_count": 5,
   "id": "9139c842",
   "metadata": {},
   "outputs": [
    {
     "data": {
      "text/plain": [
       "Pregnancies                 0\n",
       "Glucose                     0\n",
       "BloodPressure               0\n",
       "SkinThickness               0\n",
       "Insulin                     0\n",
       "BMI                         0\n",
       "DiabetesPedigreeFunction    0\n",
       "Age                         0\n",
       "Outcome                     0\n",
       "dtype: int64"
      ]
     },
     "execution_count": 5,
     "metadata": {},
     "output_type": "execute_result"
    }
   ],
   "source": [
    "ds.isnull().sum()"
   ]
  },
  {
   "cell_type": "markdown",
   "id": "74da14e2",
   "metadata": {},
   "source": [
    "### Duplicated"
   ]
  },
  {
   "cell_type": "code",
   "execution_count": 6,
   "id": "2c26e4a5",
   "metadata": {},
   "outputs": [
    {
     "data": {
      "text/plain": [
       "0"
      ]
     },
     "execution_count": 6,
     "metadata": {},
     "output_type": "execute_result"
    }
   ],
   "source": [
    "ds.duplicated().sum()"
   ]
  },
  {
   "cell_type": "markdown",
   "id": "e1892f95",
   "metadata": {},
   "source": [
    "### Normal Distribution"
   ]
  },
  {
   "cell_type": "code",
   "execution_count": 7,
   "id": "a3de2be5",
   "metadata": {},
   "outputs": [
    {
     "name": "stderr",
     "output_type": "stream",
     "text": [
      "C:\\Users\\ACER\\anaconda3\\lib\\site-packages\\seaborn\\distributions.py:2619: FutureWarning: `distplot` is a deprecated function and will be removed in a future version. Please adapt your code to use either `displot` (a figure-level function with similar flexibility) or `histplot` (an axes-level function for histograms).\n",
      "  warnings.warn(msg, FutureWarning)\n",
      "C:\\Users\\ACER\\anaconda3\\lib\\site-packages\\seaborn\\distributions.py:2103: FutureWarning: The `axis` variable is no longer used and will be removed. Instead, assign variables directly to `x` or `y`.\n",
      "  warnings.warn(msg, FutureWarning)\n",
      "C:\\Users\\ACER\\anaconda3\\lib\\site-packages\\seaborn\\distributions.py:2619: FutureWarning: `distplot` is a deprecated function and will be removed in a future version. Please adapt your code to use either `displot` (a figure-level function with similar flexibility) or `histplot` (an axes-level function for histograms).\n",
      "  warnings.warn(msg, FutureWarning)\n",
      "C:\\Users\\ACER\\anaconda3\\lib\\site-packages\\seaborn\\distributions.py:2103: FutureWarning: The `axis` variable is no longer used and will be removed. Instead, assign variables directly to `x` or `y`.\n",
      "  warnings.warn(msg, FutureWarning)\n",
      "C:\\Users\\ACER\\anaconda3\\lib\\site-packages\\seaborn\\distributions.py:2619: FutureWarning: `distplot` is a deprecated function and will be removed in a future version. Please adapt your code to use either `displot` (a figure-level function with similar flexibility) or `histplot` (an axes-level function for histograms).\n",
      "  warnings.warn(msg, FutureWarning)\n",
      "C:\\Users\\ACER\\anaconda3\\lib\\site-packages\\seaborn\\distributions.py:2103: FutureWarning: The `axis` variable is no longer used and will be removed. Instead, assign variables directly to `x` or `y`.\n",
      "  warnings.warn(msg, FutureWarning)\n",
      "C:\\Users\\ACER\\anaconda3\\lib\\site-packages\\seaborn\\distributions.py:2619: FutureWarning: `distplot` is a deprecated function and will be removed in a future version. Please adapt your code to use either `displot` (a figure-level function with similar flexibility) or `histplot` (an axes-level function for histograms).\n",
      "  warnings.warn(msg, FutureWarning)\n",
      "C:\\Users\\ACER\\anaconda3\\lib\\site-packages\\seaborn\\distributions.py:2103: FutureWarning: The `axis` variable is no longer used and will be removed. Instead, assign variables directly to `x` or `y`.\n",
      "  warnings.warn(msg, FutureWarning)\n",
      "C:\\Users\\ACER\\anaconda3\\lib\\site-packages\\seaborn\\distributions.py:2619: FutureWarning: `distplot` is a deprecated function and will be removed in a future version. Please adapt your code to use either `displot` (a figure-level function with similar flexibility) or `histplot` (an axes-level function for histograms).\n",
      "  warnings.warn(msg, FutureWarning)\n",
      "C:\\Users\\ACER\\anaconda3\\lib\\site-packages\\seaborn\\distributions.py:2103: FutureWarning: The `axis` variable is no longer used and will be removed. Instead, assign variables directly to `x` or `y`.\n",
      "  warnings.warn(msg, FutureWarning)\n",
      "C:\\Users\\ACER\\anaconda3\\lib\\site-packages\\seaborn\\distributions.py:2619: FutureWarning: `distplot` is a deprecated function and will be removed in a future version. Please adapt your code to use either `displot` (a figure-level function with similar flexibility) or `histplot` (an axes-level function for histograms).\n",
      "  warnings.warn(msg, FutureWarning)\n",
      "C:\\Users\\ACER\\anaconda3\\lib\\site-packages\\seaborn\\distributions.py:2103: FutureWarning: The `axis` variable is no longer used and will be removed. Instead, assign variables directly to `x` or `y`.\n",
      "  warnings.warn(msg, FutureWarning)\n",
      "C:\\Users\\ACER\\anaconda3\\lib\\site-packages\\seaborn\\distributions.py:2619: FutureWarning: `distplot` is a deprecated function and will be removed in a future version. Please adapt your code to use either `displot` (a figure-level function with similar flexibility) or `histplot` (an axes-level function for histograms).\n",
      "  warnings.warn(msg, FutureWarning)\n",
      "C:\\Users\\ACER\\anaconda3\\lib\\site-packages\\seaborn\\distributions.py:2103: FutureWarning: The `axis` variable is no longer used and will be removed. Instead, assign variables directly to `x` or `y`.\n",
      "  warnings.warn(msg, FutureWarning)\n",
      "C:\\Users\\ACER\\anaconda3\\lib\\site-packages\\seaborn\\distributions.py:2619: FutureWarning: `distplot` is a deprecated function and will be removed in a future version. Please adapt your code to use either `displot` (a figure-level function with similar flexibility) or `histplot` (an axes-level function for histograms).\n",
      "  warnings.warn(msg, FutureWarning)\n",
      "C:\\Users\\ACER\\anaconda3\\lib\\site-packages\\seaborn\\distributions.py:2103: FutureWarning: The `axis` variable is no longer used and will be removed. Instead, assign variables directly to `x` or `y`.\n",
      "  warnings.warn(msg, FutureWarning)\n"
     ]
    },
    {
     "data": {
      "image/png": "[encoded data removed]",
      "text/plain": [
       "<Figure size 1080x864 with 8 Axes>"
      ]
     },
     "metadata": {
      "needs_background": "light"
     },
     "output_type": "display_data"
    }
   ],
   "source": [
    "fig, axs = plt.subplots(4, 2, figsize=(15,12))\n",
    "axs = axs.flatten()\n",
    "\n",
    "sns.distplot(ds['Pregnancies'],rug=True,color='#38b000',ax=axs[0], kde=True)\n",
    "sns.distplot(ds['Glucose'],rug=True,color='#FF9933',ax=axs[1], kde=True)\n",
    "sns.distplot(ds['BloodPressure'],rug=True,color='#522500',ax=axs[2], kde=True)\n",
    "sns.distplot(ds['SkinThickness'],rug=True,color='#66b3ff',ax=axs[3], kde=True)\n",
    "sns.distplot(ds['Insulin'],rug=True,color='#FF6699',ax=axs[4], kde=True)\n",
    "sns.distplot(ds['BMI'],color='#e76f51',rug=True,ax=axs[5], kde=True)\n",
    "sns.distplot(ds['DiabetesPedigreeFunction'],color='#03045e',rug=True,ax=axs[6], kde=True)\n",
    "sns.distplot(ds['Age'],rug=True,color='#333533',ax=axs[7], kde=True)\n",
    "plt.show()"
   ]
  },
  {
   "cell_type": "markdown",
   "id": "8890ff7c",
   "metadata": {},
   "source": [
    "### Feature Selection"
   ]
  },
  {
   "cell_type": "markdown",
   "id": "98d42e5e",
   "metadata": {},
   "source": [
    "#### Kendall"
   ]
  },
  {
   "cell_type": "code",
   "execution_count": 8,
   "id": "f920df52",
   "metadata": {},
   "outputs": [],
   "source": [
    "kend_pearson = ds.corr(method='kendall')"
   ]
  },
  {
   "cell_type": "code",
   "execution_count": 9,
   "id": "c9ae6788",
   "metadata": {},
   "outputs": [
    {
     "data": {
      "image/png": "[encoded data removed]",
      "text/plain": [
       "<Figure size 864x576 with 2 Axes>"
      ]
     },
     "metadata": {
      "needs_background": "light"
     },
     "output_type": "display_data"
    }
   ],
   "source": [
    "plt.figure(figsize=(12,8))\n",
    "sns.heatmap(kend_pearson, cmap=\"RdBu_r\",annot=True)\n",
    "\n",
    "plt.title('Correlation between Numeric Variables')\n",
    "plt.show()"
   ]
  },
  {
   "cell_type": "markdown",
   "id": "e28677aa",
   "metadata": {},
   "source": [
    "#### ANOVA"
   ]
  },
  {
   "cell_type": "code",
   "execution_count": null,
   "id": "47694dfc",
   "metadata": {},
   "outputs": [],
   "source": [
    "df_feature = ds.drop('Outcome',1)\n",
    "sr_outcome = ds['Outcome']"
   ]
  },
  {
   "cell_type": "code",
   "execution_count": null,
   "id": "777f81c5",
   "metadata": {},
   "outputs": [],
   "source": [
    "from sklearn.feature_selection import SelectKBest, chi2, f_classif\n",
    "\n",
    "anov_selector = SelectKBest(f_classif, k=5) \n",
    "anov_selector.fit(df_feature, sr_outcome)\n",
    "\n",
    "cols = anov_selector.get_support(indices=True)\n",
    "df_selected_features = df_feature.iloc[:,cols]"
   ]
  },
  {
   "cell_type": "code",
   "execution_count": 40,
   "id": "b8d78f81",
   "metadata": {
    "scrolled": true
   },
   "outputs": [
    {
     "data": {
      "text/html": [
       "<div>\n",
       "<style scoped>\n",
       "    .dataframe tbody tr th:only-of-type {\n",
       "        vertical-align: middle;\n",
       "    }\n",
       "\n",
       "    .dataframe tbody tr th {\n",
       "        vertical-align: top;\n",
       "    }\n",
       "\n",
       "    .dataframe thead th {\n",
       "        text-align: right;\n",
       "    }\n",
       "</style>\n",
       "<table border=\"1\" class=\"dataframe\">\n",
       "  <thead>\n",
       "    <tr style=\"text-align: right;\">\n",
       "      <th></th>\n",
       "      <th>Pregnancies</th>\n",
       "      <th>Glucose</th>\n",
       "      <th>BMI</th>\n",
       "      <th>DiabetesPedigreeFunction</th>\n",
       "      <th>Age</th>\n",
       "    </tr>\n",
       "  </thead>\n",
       "  <tbody>\n",
       "    <tr>\n",
       "      <th>0</th>\n",
       "      <td>6</td>\n",
       "      <td>148</td>\n",
       "      <td>33.6</td>\n",
       "      <td>0.627</td>\n",
       "      <td>50</td>\n",
       "    </tr>\n",
       "    <tr>\n",
       "      <th>1</th>\n",
       "      <td>1</td>\n",
       "      <td>85</td>\n",
       "      <td>26.6</td>\n",
       "      <td>0.351</td>\n",
       "      <td>31</td>\n",
       "    </tr>\n",
       "    <tr>\n",
       "      <th>2</th>\n",
       "      <td>8</td>\n",
       "      <td>183</td>\n",
       "      <td>23.3</td>\n",
       "      <td>0.672</td>\n",
       "      <td>32</td>\n",
       "    </tr>\n",
       "    <tr>\n",
       "      <th>3</th>\n",
       "      <td>1</td>\n",
       "      <td>89</td>\n",
       "      <td>28.1</td>\n",
       "      <td>0.167</td>\n",
       "      <td>21</td>\n",
       "    </tr>\n",
       "    <tr>\n",
       "      <th>4</th>\n",
       "      <td>0</td>\n",
       "      <td>137</td>\n",
       "      <td>43.1</td>\n",
       "      <td>2.288</td>\n",
       "      <td>33</td>\n",
       "    </tr>\n",
       "  </tbody>\n",
       "</table>\n",
       "</div>"
      ],
      "text/plain": [
       "   Pregnancies  Glucose   BMI  DiabetesPedigreeFunction  Age\n",
       "0            6      148  33.6                     0.627   50\n",
       "1            1       85  26.6                     0.351   31\n",
       "2            8      183  23.3                     0.672   32\n",
       "3            1       89  28.1                     0.167   21\n",
       "4            0      137  43.1                     2.288   33"
      ]
     },
     "execution_count": 40,
     "metadata": {},
     "output_type": "execute_result"
    }
   ],
   "source": [
    "df_selected_features.head()"
   ]
  },
  {
   "cell_type": "markdown",
   "id": "2d241bd0",
   "metadata": {},
   "source": [
    "## Drop Column"
   ]
  },
  {
   "cell_type": "code",
   "execution_count": 10,
   "id": "474dbb16",
   "metadata": {},
   "outputs": [
    {
     "data": {
      "text/html": [
       "<div>\n",
       "<style scoped>\n",
       "    .dataframe tbody tr th:only-of-type {\n",
       "        vertical-align: middle;\n",
       "    }\n",
       "\n",
       "    .dataframe tbody tr th {\n",
       "        vertical-align: top;\n",
       "    }\n",
       "\n",
       "    .dataframe thead th {\n",
       "        text-align: right;\n",
       "    }\n",
       "</style>\n",
       "<table border=\"1\" class=\"dataframe\">\n",
       "  <thead>\n",
       "    <tr style=\"text-align: right;\">\n",
       "      <th></th>\n",
       "      <th>Pregnancies</th>\n",
       "      <th>Glucose</th>\n",
       "      <th>BloodPressure</th>\n",
       "      <th>SkinThickness</th>\n",
       "      <th>Insulin</th>\n",
       "      <th>BMI</th>\n",
       "      <th>DiabetesPedigreeFunction</th>\n",
       "      <th>Age</th>\n",
       "      <th>Outcome</th>\n",
       "    </tr>\n",
       "  </thead>\n",
       "  <tbody>\n",
       "    <tr>\n",
       "      <th>0</th>\n",
       "      <td>6</td>\n",
       "      <td>148</td>\n",
       "      <td>72</td>\n",
       "      <td>35</td>\n",
       "      <td>0</td>\n",
       "      <td>33.6</td>\n",
       "      <td>0.627</td>\n",
       "      <td>50</td>\n",
       "      <td>Yes</td>\n",
       "    </tr>\n",
       "    <tr>\n",
       "      <th>1</th>\n",
       "      <td>1</td>\n",
       "      <td>85</td>\n",
       "      <td>66</td>\n",
       "      <td>29</td>\n",
       "      <td>0</td>\n",
       "      <td>26.6</td>\n",
       "      <td>0.351</td>\n",
       "      <td>31</td>\n",
       "      <td>No</td>\n",
       "    </tr>\n",
       "    <tr>\n",
       "      <th>2</th>\n",
       "      <td>8</td>\n",
       "      <td>183</td>\n",
       "      <td>64</td>\n",
       "      <td>0</td>\n",
       "      <td>0</td>\n",
       "      <td>23.3</td>\n",
       "      <td>0.672</td>\n",
       "      <td>32</td>\n",
       "      <td>Yes</td>\n",
       "    </tr>\n",
       "    <tr>\n",
       "      <th>3</th>\n",
       "      <td>1</td>\n",
       "      <td>89</td>\n",
       "      <td>66</td>\n",
       "      <td>23</td>\n",
       "      <td>94</td>\n",
       "      <td>28.1</td>\n",
       "      <td>0.167</td>\n",
       "      <td>21</td>\n",
       "      <td>No</td>\n",
       "    </tr>\n",
       "    <tr>\n",
       "      <th>4</th>\n",
       "      <td>0</td>\n",
       "      <td>137</td>\n",
       "      <td>40</td>\n",
       "      <td>35</td>\n",
       "      <td>168</td>\n",
       "      <td>43.1</td>\n",
       "      <td>2.288</td>\n",
       "      <td>33</td>\n",
       "      <td>Yes</td>\n",
       "    </tr>\n",
       "    <tr>\n",
       "      <th>...</th>\n",
       "      <td>...</td>\n",
       "      <td>...</td>\n",
       "      <td>...</td>\n",
       "      <td>...</td>\n",
       "      <td>...</td>\n",
       "      <td>...</td>\n",
       "      <td>...</td>\n",
       "      <td>...</td>\n",
       "      <td>...</td>\n",
       "    </tr>\n",
       "    <tr>\n",
       "      <th>763</th>\n",
       "      <td>10</td>\n",
       "      <td>101</td>\n",
       "      <td>76</td>\n",
       "      <td>48</td>\n",
       "      <td>180</td>\n",
       "      <td>32.9</td>\n",
       "      <td>0.171</td>\n",
       "      <td>63</td>\n",
       "      <td>No</td>\n",
       "    </tr>\n",
       "    <tr>\n",
       "      <th>764</th>\n",
       "      <td>2</td>\n",
       "      <td>122</td>\n",
       "      <td>70</td>\n",
       "      <td>27</td>\n",
       "      <td>0</td>\n",
       "      <td>36.8</td>\n",
       "      <td>0.340</td>\n",
       "      <td>27</td>\n",
       "      <td>No</td>\n",
       "    </tr>\n",
       "    <tr>\n",
       "      <th>765</th>\n",
       "      <td>5</td>\n",
       "      <td>121</td>\n",
       "      <td>72</td>\n",
       "      <td>23</td>\n",
       "      <td>112</td>\n",
       "      <td>26.2</td>\n",
       "      <td>0.245</td>\n",
       "      <td>30</td>\n",
       "      <td>No</td>\n",
       "    </tr>\n",
       "    <tr>\n",
       "      <th>766</th>\n",
       "      <td>1</td>\n",
       "      <td>126</td>\n",
       "      <td>60</td>\n",
       "      <td>0</td>\n",
       "      <td>0</td>\n",
       "      <td>30.1</td>\n",
       "      <td>0.349</td>\n",
       "      <td>47</td>\n",
       "      <td>Yes</td>\n",
       "    </tr>\n",
       "    <tr>\n",
       "      <th>767</th>\n",
       "      <td>1</td>\n",
       "      <td>93</td>\n",
       "      <td>70</td>\n",
       "      <td>31</td>\n",
       "      <td>0</td>\n",
       "      <td>30.4</td>\n",
       "      <td>0.315</td>\n",
       "      <td>23</td>\n",
       "      <td>No</td>\n",
       "    </tr>\n",
       "  </tbody>\n",
       "</table>\n",
       "<p>768 rows × 9 columns</p>\n",
       "</div>"
      ],
      "text/plain": [
       "     Pregnancies  Glucose  BloodPressure  SkinThickness  Insulin   BMI  \\\n",
       "0              6      148             72             35        0  33.6   \n",
       "1              1       85             66             29        0  26.6   \n",
       "2              8      183             64              0        0  23.3   \n",
       "3              1       89             66             23       94  28.1   \n",
       "4              0      137             40             35      168  43.1   \n",
       "..           ...      ...            ...            ...      ...   ...   \n",
       "763           10      101             76             48      180  32.9   \n",
       "764            2      122             70             27        0  36.8   \n",
       "765            5      121             72             23      112  26.2   \n",
       "766            1      126             60              0        0  30.1   \n",
       "767            1       93             70             31        0  30.4   \n",
       "\n",
       "     DiabetesPedigreeFunction  Age Outcome  \n",
       "0                       0.627   50     Yes  \n",
       "1                       0.351   31      No  \n",
       "2                       0.672   32     Yes  \n",
       "3                       0.167   21      No  \n",
       "4                       2.288   33     Yes  \n",
       "..                        ...  ...     ...  \n",
       "763                     0.171   63      No  \n",
       "764                     0.340   27      No  \n",
       "765                     0.245   30      No  \n",
       "766                     0.349   47     Yes  \n",
       "767                     0.315   23      No  \n",
       "\n",
       "[768 rows x 9 columns]"
      ]
     },
     "execution_count": 10,
     "metadata": {},
     "output_type": "execute_result"
    }
   ],
   "source": [
    "ds.Outcome.replace([0,1], ['No', 'Yes'], inplace=True)\n",
    "ds"
   ]
  },
  {
   "cell_type": "code",
   "execution_count": 11,
   "id": "43c32118",
   "metadata": {},
   "outputs": [
    {
     "data": {
      "text/plain": [
       "Index(['Pregnancies', 'Glucose', 'BloodPressure', 'SkinThickness', 'Insulin',\n",
       "       'BMI', 'DiabetesPedigreeFunction', 'Age', 'Outcome'],\n",
       "      dtype='object')"
      ]
     },
     "execution_count": 11,
     "metadata": {},
     "output_type": "execute_result"
    }
   ],
   "source": [
    "ds.columns\n",
    "# Yang dipake-> 'Pregnancies', 'Glucose', 'BloodPressure', 'BMI', 'Age'\n",
    "# Yang dibuang ->  'SkinThickness','Insulin','DiabetesPedigreeFunction'"
   ]
  },
  {
   "cell_type": "code",
   "execution_count": 12,
   "id": "25de83fd",
   "metadata": {},
   "outputs": [
    {
     "data": {
      "text/html": [
       "<div>\n",
       "<style scoped>\n",
       "    .dataframe tbody tr th:only-of-type {\n",
       "        vertical-align: middle;\n",
       "    }\n",
       "\n",
       "    .dataframe tbody tr th {\n",
       "        vertical-align: top;\n",
       "    }\n",
       "\n",
       "    .dataframe thead th {\n",
       "        text-align: right;\n",
       "    }\n",
       "</style>\n",
       "<table border=\"1\" class=\"dataframe\">\n",
       "  <thead>\n",
       "    <tr style=\"text-align: right;\">\n",
       "      <th></th>\n",
       "      <th>Pregnancies</th>\n",
       "      <th>Glucose</th>\n",
       "      <th>BloodPressure</th>\n",
       "      <th>BMI</th>\n",
       "      <th>Age</th>\n",
       "      <th>Outcome</th>\n",
       "    </tr>\n",
       "  </thead>\n",
       "  <tbody>\n",
       "    <tr>\n",
       "      <th>0</th>\n",
       "      <td>6</td>\n",
       "      <td>148</td>\n",
       "      <td>72</td>\n",
       "      <td>33.6</td>\n",
       "      <td>50</td>\n",
       "      <td>Yes</td>\n",
       "    </tr>\n",
       "    <tr>\n",
       "      <th>1</th>\n",
       "      <td>1</td>\n",
       "      <td>85</td>\n",
       "      <td>66</td>\n",
       "      <td>26.6</td>\n",
       "      <td>31</td>\n",
       "      <td>No</td>\n",
       "    </tr>\n",
       "    <tr>\n",
       "      <th>2</th>\n",
       "      <td>8</td>\n",
       "      <td>183</td>\n",
       "      <td>64</td>\n",
       "      <td>23.3</td>\n",
       "      <td>32</td>\n",
       "      <td>Yes</td>\n",
       "    </tr>\n",
       "    <tr>\n",
       "      <th>3</th>\n",
       "      <td>1</td>\n",
       "      <td>89</td>\n",
       "      <td>66</td>\n",
       "      <td>28.1</td>\n",
       "      <td>21</td>\n",
       "      <td>No</td>\n",
       "    </tr>\n",
       "    <tr>\n",
       "      <th>4</th>\n",
       "      <td>0</td>\n",
       "      <td>137</td>\n",
       "      <td>40</td>\n",
       "      <td>43.1</td>\n",
       "      <td>33</td>\n",
       "      <td>Yes</td>\n",
       "    </tr>\n",
       "    <tr>\n",
       "      <th>...</th>\n",
       "      <td>...</td>\n",
       "      <td>...</td>\n",
       "      <td>...</td>\n",
       "      <td>...</td>\n",
       "      <td>...</td>\n",
       "      <td>...</td>\n",
       "    </tr>\n",
       "    <tr>\n",
       "      <th>763</th>\n",
       "      <td>10</td>\n",
       "      <td>101</td>\n",
       "      <td>76</td>\n",
       "      <td>32.9</td>\n",
       "      <td>63</td>\n",
       "      <td>No</td>\n",
       "    </tr>\n",
       "    <tr>\n",
       "      <th>764</th>\n",
       "      <td>2</td>\n",
       "      <td>122</td>\n",
       "      <td>70</td>\n",
       "      <td>36.8</td>\n",
       "      <td>27</td>\n",
       "      <td>No</td>\n",
       "    </tr>\n",
       "    <tr>\n",
       "      <th>765</th>\n",
       "      <td>5</td>\n",
       "      <td>121</td>\n",
       "      <td>72</td>\n",
       "      <td>26.2</td>\n",
       "      <td>30</td>\n",
       "      <td>No</td>\n",
       "    </tr>\n",
       "    <tr>\n",
       "      <th>766</th>\n",
       "      <td>1</td>\n",
       "      <td>126</td>\n",
       "      <td>60</td>\n",
       "      <td>30.1</td>\n",
       "      <td>47</td>\n",
       "      <td>Yes</td>\n",
       "    </tr>\n",
       "    <tr>\n",
       "      <th>767</th>\n",
       "      <td>1</td>\n",
       "      <td>93</td>\n",
       "      <td>70</td>\n",
       "      <td>30.4</td>\n",
       "      <td>23</td>\n",
       "      <td>No</td>\n",
       "    </tr>\n",
       "  </tbody>\n",
       "</table>\n",
       "<p>768 rows × 6 columns</p>\n",
       "</div>"
      ],
      "text/plain": [
       "     Pregnancies  Glucose  BloodPressure   BMI  Age Outcome\n",
       "0              6      148             72  33.6   50     Yes\n",
       "1              1       85             66  26.6   31      No\n",
       "2              8      183             64  23.3   32     Yes\n",
       "3              1       89             66  28.1   21      No\n",
       "4              0      137             40  43.1   33     Yes\n",
       "..           ...      ...            ...   ...  ...     ...\n",
       "763           10      101             76  32.9   63      No\n",
       "764            2      122             70  36.8   27      No\n",
       "765            5      121             72  26.2   30      No\n",
       "766            1      126             60  30.1   47     Yes\n",
       "767            1       93             70  30.4   23      No\n",
       "\n",
       "[768 rows x 6 columns]"
      ]
     },
     "execution_count": 12,
     "metadata": {},
     "output_type": "execute_result"
    }
   ],
   "source": [
    "ds.drop(columns=['SkinThickness', 'Insulin','DiabetesPedigreeFunction'], inplace=True)\n",
    "ds"
   ]
  },
  {
   "cell_type": "markdown",
   "id": "26709382",
   "metadata": {},
   "source": [
    "### Outliers"
   ]
  },
  {
   "cell_type": "code",
   "execution_count": 13,
   "id": "a9382516",
   "metadata": {},
   "outputs": [
    {
     "name": "stderr",
     "output_type": "stream",
     "text": [
      "C:\\Users\\ACER\\anaconda3\\lib\\site-packages\\seaborn\\_decorators.py:36: FutureWarning: Pass the following variable as a keyword arg: x. From version 0.12, the only valid positional argument will be `data`, and passing other arguments without an explicit keyword will result in an error or misinterpretation.\n",
      "  warnings.warn(\n",
      "C:\\Users\\ACER\\anaconda3\\lib\\site-packages\\seaborn\\_decorators.py:36: FutureWarning: Pass the following variable as a keyword arg: x. From version 0.12, the only valid positional argument will be `data`, and passing other arguments without an explicit keyword will result in an error or misinterpretation.\n",
      "  warnings.warn(\n",
      "C:\\Users\\ACER\\anaconda3\\lib\\site-packages\\seaborn\\_decorators.py:36: FutureWarning: Pass the following variable as a keyword arg: x. From version 0.12, the only valid positional argument will be `data`, and passing other arguments without an explicit keyword will result in an error or misinterpretation.\n",
      "  warnings.warn(\n",
      "C:\\Users\\ACER\\anaconda3\\lib\\site-packages\\seaborn\\_decorators.py:36: FutureWarning: Pass the following variable as a keyword arg: x. From version 0.12, the only valid positional argument will be `data`, and passing other arguments without an explicit keyword will result in an error or misinterpretation.\n",
      "  warnings.warn(\n",
      "C:\\Users\\ACER\\anaconda3\\lib\\site-packages\\seaborn\\_decorators.py:36: FutureWarning: Pass the following variable as a keyword arg: x. From version 0.12, the only valid positional argument will be `data`, and passing other arguments without an explicit keyword will result in an error or misinterpretation.\n",
      "  warnings.warn(\n"
     ]
    },
    {
     "data": {
      "image/png": "[encoded data removed]",
      "text/plain": [
       "<Figure size 1080x864 with 6 Axes>"
      ]
     },
     "metadata": {
      "needs_background": "light"
     },
     "output_type": "display_data"
    }
   ],
   "source": [
    "fig, axs2 = plt.subplots(3, 2, figsize=(15,12))\n",
    "axs2 = axs2.flatten()\n",
    "\n",
    "sns.boxplot(ds['Pregnancies'],color='#38b000',ax=axs2[0])\n",
    "sns.boxplot(ds['Glucose'],color='#FF9933',ax=axs2[1])\n",
    "sns.boxplot(ds['BloodPressure'],color='#522500',ax=axs2[2])\n",
    "sns.boxplot(ds['BMI'],color='#e76f51',ax=axs2[3])\n",
    "sns.boxplot(ds['Age'],color='#333533',ax=axs2[4])\n",
    "plt.show()"
   ]
  },
  {
   "cell_type": "code",
   "execution_count": 14,
   "id": "dc7b9175",
   "metadata": {},
   "outputs": [
    {
     "data": {
      "text/plain": [
       "Index(['Pregnancies', 'Glucose', 'BloodPressure', 'BMI', 'Age', 'Outcome'], dtype='object')"
      ]
     },
     "execution_count": 14,
     "metadata": {},
     "output_type": "execute_result"
    }
   ],
   "source": [
    "ds.columns"
   ]
  },
  {
   "cell_type": "code",
   "execution_count": 15,
   "id": "0da36eb1",
   "metadata": {},
   "outputs": [
    {
     "name": "stderr",
     "output_type": "stream",
     "text": [
      "C:\\Users\\ACER\\anaconda3\\lib\\site-packages\\seaborn\\_decorators.py:36: FutureWarning: Pass the following variable as a keyword arg: x. From version 0.12, the only valid positional argument will be `data`, and passing other arguments without an explicit keyword will result in an error or misinterpretation.\n",
      "  warnings.warn(\n",
      "C:\\Users\\ACER\\anaconda3\\lib\\site-packages\\seaborn\\_decorators.py:36: FutureWarning: Pass the following variable as a keyword arg: x. From version 0.12, the only valid positional argument will be `data`, and passing other arguments without an explicit keyword will result in an error or misinterpretation.\n",
      "  warnings.warn(\n",
      "C:\\Users\\ACER\\anaconda3\\lib\\site-packages\\seaborn\\_decorators.py:36: FutureWarning: Pass the following variable as a keyword arg: x. From version 0.12, the only valid positional argument will be `data`, and passing other arguments without an explicit keyword will result in an error or misinterpretation.\n",
      "  warnings.warn(\n",
      "C:\\Users\\ACER\\anaconda3\\lib\\site-packages\\seaborn\\_decorators.py:36: FutureWarning: Pass the following variable as a keyword arg: x. From version 0.12, the only valid positional argument will be `data`, and passing other arguments without an explicit keyword will result in an error or misinterpretation.\n",
      "  warnings.warn(\n",
      "C:\\Users\\ACER\\anaconda3\\lib\\site-packages\\seaborn\\_decorators.py:36: FutureWarning: Pass the following variable as a keyword arg: x. From version 0.12, the only valid positional argument will be `data`, and passing other arguments without an explicit keyword will result in an error or misinterpretation.\n",
      "  warnings.warn(\n"
     ]
    },
    {
     "data": {
      "image/png": "[encoded data removed]",
      "text/plain": [
       "<Figure size 1080x864 with 6 Axes>"
      ]
     },
     "metadata": {
      "needs_background": "light"
     },
     "output_type": "display_data"
    }
   ],
   "source": [
    "def drop_outliers(df, field_name):\n",
    "    iqr = 1.5 * (np.percentile(df[field_name], 75) - np.percentile(df[field_name], 25))\n",
    "    df.drop(df[df[field_name] > (iqr + np.percentile(df[field_name], 75))].index, inplace=True)\n",
    "    df.drop(df[df[field_name] < (np.percentile(df[field_name], 25) - iqr)].index, inplace=True)\n",
    "\n",
    "drop_outliers(ds, 'Pregnancies')\n",
    "drop_outliers(ds, 'Glucose')\n",
    "drop_outliers(ds, 'BloodPressure')\n",
    "drop_outliers(ds, 'BMI')\n",
    "drop_outliers(ds, 'Age')\n",
    "\n",
    "fig, axs2 = plt.subplots(3, 2, figsize=(15,12))\n",
    "axs2 = axs2.flatten()\n",
    "\n",
    "sns.boxplot(ds['Pregnancies'],color='#38b000',ax=axs2[0])\n",
    "sns.boxplot(ds['Glucose'],color='#FF9933',ax=axs2[1])\n",
    "sns.boxplot(ds['BloodPressure'],color='#522500',ax=axs2[2])\n",
    "sns.boxplot(ds['BMI'],color='#e76f51',ax=axs2[3])\n",
    "sns.boxplot(ds['Age'],color='#333533',ax=axs2[4])\n",
    "plt.show()"
   ]
  },
  {
   "cell_type": "code",
   "execution_count": 16,
   "id": "e1d5b018",
   "metadata": {},
   "outputs": [
    {
     "data": {
      "text/plain": [
       "Pregnancies      0\n",
       "Glucose          0\n",
       "BloodPressure    0\n",
       "BMI              0\n",
       "Age              0\n",
       "Outcome          0\n",
       "dtype: int64"
      ]
     },
     "execution_count": 16,
     "metadata": {},
     "output_type": "execute_result"
    }
   ],
   "source": [
    "ds.isnull().sum()"
   ]
  },
  {
   "cell_type": "code",
   "execution_count": 17,
   "id": "9ed22961",
   "metadata": {},
   "outputs": [
    {
     "name": "stderr",
     "output_type": "stream",
     "text": [
      "C:\\Users\\ACER\\anaconda3\\lib\\site-packages\\seaborn\\distributions.py:2619: FutureWarning: `distplot` is a deprecated function and will be removed in a future version. Please adapt your code to use either `displot` (a figure-level function with similar flexibility) or `histplot` (an axes-level function for histograms).\n",
      "  warnings.warn(msg, FutureWarning)\n",
      "C:\\Users\\ACER\\anaconda3\\lib\\site-packages\\seaborn\\distributions.py:2103: FutureWarning: The `axis` variable is no longer used and will be removed. Instead, assign variables directly to `x` or `y`.\n",
      "  warnings.warn(msg, FutureWarning)\n",
      "C:\\Users\\ACER\\anaconda3\\lib\\site-packages\\seaborn\\distributions.py:2619: FutureWarning: `distplot` is a deprecated function and will be removed in a future version. Please adapt your code to use either `displot` (a figure-level function with similar flexibility) or `histplot` (an axes-level function for histograms).\n",
      "  warnings.warn(msg, FutureWarning)\n",
      "C:\\Users\\ACER\\anaconda3\\lib\\site-packages\\seaborn\\distributions.py:2103: FutureWarning: The `axis` variable is no longer used and will be removed. Instead, assign variables directly to `x` or `y`.\n",
      "  warnings.warn(msg, FutureWarning)\n",
      "C:\\Users\\ACER\\anaconda3\\lib\\site-packages\\seaborn\\distributions.py:2619: FutureWarning: `distplot` is a deprecated function and will be removed in a future version. Please adapt your code to use either `displot` (a figure-level function with similar flexibility) or `histplot` (an axes-level function for histograms).\n",
      "  warnings.warn(msg, FutureWarning)\n",
      "C:\\Users\\ACER\\anaconda3\\lib\\site-packages\\seaborn\\distributions.py:2103: FutureWarning: The `axis` variable is no longer used and will be removed. Instead, assign variables directly to `x` or `y`.\n",
      "  warnings.warn(msg, FutureWarning)\n",
      "C:\\Users\\ACER\\anaconda3\\lib\\site-packages\\seaborn\\distributions.py:2619: FutureWarning: `distplot` is a deprecated function and will be removed in a future version. Please adapt your code to use either `displot` (a figure-level function with similar flexibility) or `histplot` (an axes-level function for histograms).\n",
      "  warnings.warn(msg, FutureWarning)\n",
      "C:\\Users\\ACER\\anaconda3\\lib\\site-packages\\seaborn\\distributions.py:2103: FutureWarning: The `axis` variable is no longer used and will be removed. Instead, assign variables directly to `x` or `y`.\n",
      "  warnings.warn(msg, FutureWarning)\n",
      "C:\\Users\\ACER\\anaconda3\\lib\\site-packages\\seaborn\\distributions.py:2619: FutureWarning: `distplot` is a deprecated function and will be removed in a future version. Please adapt your code to use either `displot` (a figure-level function with similar flexibility) or `histplot` (an axes-level function for histograms).\n",
      "  warnings.warn(msg, FutureWarning)\n",
      "C:\\Users\\ACER\\anaconda3\\lib\\site-packages\\seaborn\\distributions.py:2103: FutureWarning: The `axis` variable is no longer used and will be removed. Instead, assign variables directly to `x` or `y`.\n",
      "  warnings.warn(msg, FutureWarning)\n"
     ]
    },
    {
     "data": {
      "image/png": "[encoded data removed]",
      "text/plain": [
       "<Figure size 1080x864 with 8 Axes>"
      ]
     },
     "metadata": {
      "needs_background": "light"
     },
     "output_type": "display_data"
    }
   ],
   "source": [
    "fig, axs = plt.subplots(4, 2, figsize=(15,12))\n",
    "axs = axs.flatten()\n",
    "\n",
    "sns.distplot(ds['Pregnancies'],rug=True,color='#38b000',ax=axs[0], kde=True)\n",
    "sns.distplot(ds['Glucose'],rug=True,color='#FF9933',ax=axs[1], kde=True)\n",
    "sns.distplot(ds['BloodPressure'],rug=True,color='#522500',ax=axs[2], kde=True)\n",
    "sns.distplot(ds['BMI'],color='#e76f51',rug=True,ax=axs[3], kde=True)\n",
    "sns.distplot(ds['Age'],rug=True,color='#333533',ax=axs[4], kde=True)\n",
    "plt.show()"
   ]
  },
  {
   "cell_type": "markdown",
   "id": "8ff98e00",
   "metadata": {},
   "source": [
    "# Split"
   ]
  },
  {
   "cell_type": "code",
   "execution_count": 18,
   "id": "6fbdd6fb",
   "metadata": {},
   "outputs": [
    {
     "data": {
      "text/plain": [
       "((557, 5), (140, 5), (557,), (140,))"
      ]
     },
     "execution_count": 18,
     "metadata": {},
     "output_type": "execute_result"
    }
   ],
   "source": [
    "X = ds.drop(columns='Outcome')\n",
    "y = ds.Outcome\n",
    "\n",
    "X_train, X_test, y_train, y_test = train_test_split(X,y,test_size=0.2, stratify=y, random_state=1)\n",
    "X_train.shape, X_test.shape, y_train.shape, y_test.shape"
   ]
  },
  {
   "cell_type": "code",
   "execution_count": 19,
   "id": "b8088404",
   "metadata": {},
   "outputs": [
    {
     "data": {
      "text/plain": [
       "Index(['Pregnancies', 'Glucose', 'BloodPressure', 'BMI', 'Age', 'Outcome'], dtype='object')"
      ]
     },
     "execution_count": 19,
     "metadata": {},
     "output_type": "execute_result"
    }
   ],
   "source": [
    "ds.columns"
   ]
  },
  {
   "cell_type": "code",
   "execution_count": 20,
   "id": "665fa3c5",
   "metadata": {},
   "outputs": [
    {
     "data": {
      "image/png": "[encoded data removed]",
      "text/plain": [
       "<Figure size 1080x432 with 1 Axes>"
      ]
     },
     "metadata": {
      "needs_background": "light"
     },
     "output_type": "display_data"
    }
   ],
   "source": [
    "import seaborn as sns\n",
    "import matplotlib.pyplot as plt\n",
    "\n",
    "plt.figure(figsize=(15,6))\n",
    "sns.countplot(x=ds['Outcome'], data = ds)\n",
    "plt.xticks(rotation=90)\n",
    "plt.show()"
   ]
  },
  {
   "cell_type": "code",
   "execution_count": 64,
   "id": "cfd850ce",
   "metadata": {},
   "outputs": [
    {
     "data": {
      "text/plain": [
       "No     463\n",
       "Yes    234\n",
       "Name: Outcome, dtype: int64"
      ]
     },
     "execution_count": 64,
     "metadata": {},
     "output_type": "execute_result"
    }
   ],
   "source": [
    "ds.Outcome.value_counts()"
   ]
  },
  {
   "cell_type": "markdown",
   "id": "f07fa11c",
   "metadata": {},
   "source": [
    "# Smote"
   ]
  },
  {
   "cell_type": "code",
   "execution_count": null,
   "id": "696f514c",
   "metadata": {},
   "outputs": [],
   "source": [
    "from imblearn.over_sampling import SMOTE\n",
    "from imblearn.under_sampling import NearMiss\n",
    "# define oversampling strategy\n",
    "SMOTE = SMOTE()\n",
    "NR = NearMiss()\n",
    "\n",
    "# fit and apply the transform\n",
    "X_train_SMOTE, y_train_SMOTE = SMOTE.fit_resample(X_train, y_train)"
   ]
  },
  {
   "cell_type": "code",
   "execution_count": null,
   "id": "38115099",
   "metadata": {},
   "outputs": [],
   "source": [
    "print(\"Before OverSampling, counts of label '0': {}\".format(sum(y_train == 0)))\n",
    "print(\"Before OverSampling, counts of label '1': {}\".format(sum(y_train == 1)))\n",
    "\n",
    "print(\"After OverSampling, counts of label '0': {}\".format(sum(y_train_SMOTE == 0)))\n",
    "print(\"After OverSampling, counts of label '1': {}\".format(sum(y_train_SMOTE == 1)))"
   ]
  },
  {
   "cell_type": "code",
   "execution_count": null,
   "id": "cf7931fa",
   "metadata": {},
   "outputs": [],
   "source": [
    "X_train_SMOTE.columns"
   ]
  },
  {
   "cell_type": "markdown",
   "id": "04684643",
   "metadata": {},
   "source": [
    "# Preprocessing"
   ]
  },
  {
   "cell_type": "code",
   "execution_count": 21,
   "id": "35b122a8",
   "metadata": {},
   "outputs": [
    {
     "data": {
      "text/plain": [
       "Index(['Pregnancies', 'Glucose', 'BloodPressure', 'BMI', 'Age'], dtype='object')"
      ]
     },
     "execution_count": 21,
     "metadata": {},
     "output_type": "execute_result"
    }
   ],
   "source": [
    "X_train.columns"
   ]
  },
  {
   "cell_type": "code",
   "execution_count": 29,
   "id": "eb80ffab",
   "metadata": {},
   "outputs": [],
   "source": [
    "from sklearn.preprocessing import MinMaxScaler,StandardScaler, RobustScaler\n",
    "from sklearn.discriminant_analysis import LinearDiscriminantAnalysis as LDA\n",
    "from sklearn.preprocessing import PolynomialFeatures\n",
    "from sklearn.preprocessing import OneHotEncoder\n",
    "from sklearn.preprocessing import PowerTransformer,MinMaxScaler,StandardScaler\n",
    "from sklearn.impute import SimpleImputer\n",
    "\n",
    "numpipe = Pipeline([\n",
    "    ('minmax', RobustScaler()),\n",
    "    ('impute', SimpleImputer(strategy='median')),\n",
    "    ('transform', PowerTransformer(method='yeo-johnson'))\n",
    "])\n",
    "\n",
    "from sklearn.compose import ColumnTransformer\n",
    "prep = ColumnTransformer([\n",
    "    ('prep', numpipe, ['Pregnancies', 'Glucose', 'BloodPressure', 'BMI', 'Age'])\n",
    "])\n",
    "\n",
    "from sklearn.neighbors import KNeighborsClassifier\n",
    "from sklearn.linear_model import LogisticRegression\n",
    "from sklearn.tree import DecisionTreeClassifier\n",
    "from sklearn.ensemble import RandomForestClassifier\n",
    "from sklearn.ensemble import AdaBoostClassifier\n",
    "from sklearn.ensemble import GradientBoostingClassifier\n",
    "\n",
    "final_knn = Pipeline([\n",
    "    ('prep', prep),\n",
    "    ('algo_knn', KNeighborsClassifier())\n",
    "])\n",
    "\n",
    "final_logistic = Pipeline([\n",
    "    ('prep', prep),\n",
    "    ('algo', LogisticRegression(C=0.118, class_weight={}, dual=False, fit_intercept=True,\n",
    "                   intercept_scaling=1, l1_ratio=None, max_iter=1000,\n",
    "                   multi_class='auto', n_jobs=None, penalty='l2',\n",
    "                   random_state=1, solver='lbfgs', tol=0.0001, verbose=0,\n",
    "                   warm_start=False))\n",
    "])\n",
    "\n",
    "final_tree = Pipeline([\n",
    "    ('prep', prep),\n",
    "    ('algo_tree', DecisionTreeClassifier())\n",
    "])\n",
    "\n",
    "final_random = Pipeline([\n",
    "    ('prep', prep),\n",
    "    ('algo_rand', RandomForestClassifier()\n",
    "    )\n",
    "])\n",
    "\n",
    "final_ada = Pipeline([\n",
    "    ('prep', prep),\n",
    "    ('algo_ada', AdaBoostClassifier(\n",
    "                    base_estimator=None,\n",
    "                    n_estimators=100,\n",
    "                    learning_rate=0.5,\n",
    "                    algorithm='SAMME.R',\n",
    "                    random_state=1,\n",
    "    )\n",
    "    )\n",
    "])\n",
    "\n",
    "final_grad = Pipeline([\n",
    "    ('prep', prep),\n",
    "    ('algo_grad', GradientBoostingClassifier())\n",
    "])"
   ]
  },
  {
   "cell_type": "markdown",
   "id": "4aafbc63",
   "metadata": {},
   "source": [
    "# Finding Best Model"
   ]
  },
  {
   "cell_type": "code",
   "execution_count": 30,
   "id": "df904c91",
   "metadata": {},
   "outputs": [
    {
     "name": "stdout",
     "output_type": "stream",
     "text": [
      "KNN:  0.8330341113105925\n",
      "KNN:  0.7642857142857142\n",
      " \n",
      "Logistic:  0.7719928186714542\n",
      "Logistic:  0.7785714285714286\n",
      " \n",
      "DecTree:  1.0\n",
      "DecTree:  0.6714285714285714\n",
      "========================================\n",
      "RandomForest:  1.0\n",
      "RandomForest:  0.75\n",
      " \n",
      "AdaBoost:  0.8204667863554758\n",
      "AdaBoost:  0.7785714285714286\n",
      " \n",
      "GradientBoost:  0.895870736086176\n",
      "GradientBoost:  0.7642857142857142\n"
     ]
    }
   ],
   "source": [
    "final_knn.fit(X_train, y_train)\n",
    "train_knn = final_knn.score(X_train, y_train)\n",
    "score_knn = final_knn.score(X_test, y_test)\n",
    "print(\"KNN: \", train_knn)\n",
    "print(\"KNN: \", score_knn)\n",
    "\n",
    "print(\" \")\n",
    "\n",
    "final_logistic.fit(X_train, y_train)\n",
    "train_logistic = final_logistic.score(X_train, y_train)\n",
    "score_logistic = final_logistic.score(X_test, y_test)\n",
    "print(\"Logistic: \", train_logistic)\n",
    "print(\"Logistic: \", score_logistic)\n",
    "\n",
    "print(\" \")\n",
    "\n",
    "final_tree.fit(X_train, y_train)\n",
    "train_tree = final_tree.score(X_train, y_train)\n",
    "score_tree = final_tree.score(X_test, y_test)\n",
    "print(\"DecTree: \", train_tree)\n",
    "print(\"DecTree: \", score_tree)\n",
    "\n",
    "print(\"========================================\")\n",
    "\n",
    "final_random.fit(X_train, y_train)\n",
    "train_random = final_random.score(X_train, y_train)\n",
    "score_random = final_random.score(X_test, y_test)\n",
    "print(\"RandomForest: \", train_random)\n",
    "print(\"RandomForest: \", score_random)\n",
    "\n",
    "print(\" \")\n",
    "\n",
    "final_ada.fit(X_train, y_train)\n",
    "train_ada = final_ada.score(X_train, y_train)\n",
    "score_ada = final_ada.score(X_test, y_test)\n",
    "print(\"AdaBoost: \", train_ada)\n",
    "print(\"AdaBoost: \", score_ada)\n",
    "\n",
    "print(\" \")\n",
    "\n",
    "final_grad.fit(X_train, y_train)\n",
    "train_grad = final_grad.score(X_train, y_train)\n",
    "score_grad = final_grad.score(X_test, y_test)\n",
    "print(\"GradientBoost: \", train_grad)\n",
    "print(\"GradientBoost: \", score_grad)"
   ]
  },
  {
   "cell_type": "code",
   "execution_count": null,
   "id": "7d5deb6a",
   "metadata": {},
   "outputs": [],
   "source": [
    "final_knn.fit(X_train_SMOTE, y_train_SMOTE)\n",
    "train_knn = final_knn.score(X_train_SMOTE, y_train_SMOTE)\n",
    "score_knn = final_knn.score(X_test, y_test)\n",
    "print(\"KNN: \", train_knn)\n",
    "print(\"KNN: \", score_knn)\n",
    "\n",
    "print(\" \")\n",
    "\n",
    "final_logistic.fit(X_train_SMOTE, y_train_SMOTE)\n",
    "train_logistic = final_logistic.score(X_train_SMOTE, y_train_SMOTE)\n",
    "score_logistic = final_logistic.score(X_test, y_test)\n",
    "print(\"Logistic: \", train_logistic)\n",
    "print(\"Logistic: \", score_logistic)\n",
    "\n",
    "print(\" \")\n",
    "\n",
    "final_tree.fit(X_train_SMOTE, y_train_SMOTE)\n",
    "train_tree = final_tree.score(X_train_SMOTE, y_train_SMOTE)\n",
    "score_tree = final_tree.score(X_test, y_test)\n",
    "print(\"DecTree: \", train_tree)\n",
    "print(\"DecTree: \", score_tree)\n",
    "\n",
    "print(\"========================================\")\n",
    "\n",
    "final_random.fit(X_train_SMOTE, y_train_SMOTE)\n",
    "train_random = final_random.score(X_train_SMOTE, y_train_SMOTE)\n",
    "score_random = final_random.score(X_test, y_test)\n",
    "print(\"RandomForest: \", train_random)\n",
    "print(\"RandomForest: \", score_random)\n",
    "\n",
    "print(\" \")\n",
    "\n",
    "final_ada.fit(X_train_SMOTE, y_train_SMOTE)\n",
    "train_ada = final_ada.score(X_train_SMOTE, y_train_SMOTE)\n",
    "score_ada = final_ada.score(X_test, y_test)\n",
    "print(\"AdaBoost: \", train_ada)\n",
    "print(\"AdaBoost: \", score_ada)\n",
    "\n",
    "print(\" \")\n",
    "\n",
    "final_grad.fit(X_train_SMOTE, y_train_SMOTE)\n",
    "train_grad = final_grad.score(X_train_SMOTE, y_train_SMOTE)\n",
    "score_grad = final_grad.score(X_test, y_test)\n",
    "print(\"GradientBoost: \", train_grad)\n",
    "print(\"GradientBoost: \", score_grad)"
   ]
  },
  {
   "cell_type": "markdown",
   "id": "5db770f0",
   "metadata": {},
   "source": [
    "# Tuning Logreg"
   ]
  },
  {
   "cell_type": "code",
   "execution_count": 68,
   "id": "47396da3",
   "metadata": {},
   "outputs": [
    {
     "data": {
      "text/html": [
       "<div>\n",
       "<style scoped>\n",
       "    .dataframe tbody tr th:only-of-type {\n",
       "        vertical-align: middle;\n",
       "    }\n",
       "\n",
       "    .dataframe tbody tr th {\n",
       "        vertical-align: top;\n",
       "    }\n",
       "\n",
       "    .dataframe thead th {\n",
       "        text-align: right;\n",
       "    }\n",
       "</style>\n",
       "<table border=\"1\" class=\"dataframe\">\n",
       "  <thead>\n",
       "    <tr style=\"text-align: right;\">\n",
       "      <th></th>\n",
       "      <th>Pregnancies</th>\n",
       "      <th>Glucose</th>\n",
       "      <th>BloodPressure</th>\n",
       "      <th>BMI</th>\n",
       "      <th>Age</th>\n",
       "      <th>Outcome</th>\n",
       "    </tr>\n",
       "  </thead>\n",
       "  <tbody>\n",
       "    <tr>\n",
       "      <th>0</th>\n",
       "      <td>6</td>\n",
       "      <td>148</td>\n",
       "      <td>72</td>\n",
       "      <td>33.6</td>\n",
       "      <td>50</td>\n",
       "      <td>Yes</td>\n",
       "    </tr>\n",
       "    <tr>\n",
       "      <th>1</th>\n",
       "      <td>1</td>\n",
       "      <td>85</td>\n",
       "      <td>66</td>\n",
       "      <td>26.6</td>\n",
       "      <td>31</td>\n",
       "      <td>No</td>\n",
       "    </tr>\n",
       "    <tr>\n",
       "      <th>2</th>\n",
       "      <td>8</td>\n",
       "      <td>183</td>\n",
       "      <td>64</td>\n",
       "      <td>23.3</td>\n",
       "      <td>32</td>\n",
       "      <td>Yes</td>\n",
       "    </tr>\n",
       "    <tr>\n",
       "      <th>3</th>\n",
       "      <td>1</td>\n",
       "      <td>89</td>\n",
       "      <td>66</td>\n",
       "      <td>28.1</td>\n",
       "      <td>21</td>\n",
       "      <td>No</td>\n",
       "    </tr>\n",
       "    <tr>\n",
       "      <th>4</th>\n",
       "      <td>0</td>\n",
       "      <td>137</td>\n",
       "      <td>40</td>\n",
       "      <td>43.1</td>\n",
       "      <td>33</td>\n",
       "      <td>Yes</td>\n",
       "    </tr>\n",
       "    <tr>\n",
       "      <th>...</th>\n",
       "      <td>...</td>\n",
       "      <td>...</td>\n",
       "      <td>...</td>\n",
       "      <td>...</td>\n",
       "      <td>...</td>\n",
       "      <td>...</td>\n",
       "    </tr>\n",
       "    <tr>\n",
       "      <th>763</th>\n",
       "      <td>10</td>\n",
       "      <td>101</td>\n",
       "      <td>76</td>\n",
       "      <td>32.9</td>\n",
       "      <td>63</td>\n",
       "      <td>No</td>\n",
       "    </tr>\n",
       "    <tr>\n",
       "      <th>764</th>\n",
       "      <td>2</td>\n",
       "      <td>122</td>\n",
       "      <td>70</td>\n",
       "      <td>36.8</td>\n",
       "      <td>27</td>\n",
       "      <td>No</td>\n",
       "    </tr>\n",
       "    <tr>\n",
       "      <th>765</th>\n",
       "      <td>5</td>\n",
       "      <td>121</td>\n",
       "      <td>72</td>\n",
       "      <td>26.2</td>\n",
       "      <td>30</td>\n",
       "      <td>No</td>\n",
       "    </tr>\n",
       "    <tr>\n",
       "      <th>766</th>\n",
       "      <td>1</td>\n",
       "      <td>126</td>\n",
       "      <td>60</td>\n",
       "      <td>30.1</td>\n",
       "      <td>47</td>\n",
       "      <td>Yes</td>\n",
       "    </tr>\n",
       "    <tr>\n",
       "      <th>767</th>\n",
       "      <td>1</td>\n",
       "      <td>93</td>\n",
       "      <td>70</td>\n",
       "      <td>30.4</td>\n",
       "      <td>23</td>\n",
       "      <td>No</td>\n",
       "    </tr>\n",
       "  </tbody>\n",
       "</table>\n",
       "<p>697 rows × 6 columns</p>\n",
       "</div>"
      ],
      "text/plain": [
       "     Pregnancies  Glucose  BloodPressure   BMI  Age Outcome\n",
       "0              6      148             72  33.6   50     Yes\n",
       "1              1       85             66  26.6   31      No\n",
       "2              8      183             64  23.3   32     Yes\n",
       "3              1       89             66  28.1   21      No\n",
       "4              0      137             40  43.1   33     Yes\n",
       "..           ...      ...            ...   ...  ...     ...\n",
       "763           10      101             76  32.9   63      No\n",
       "764            2      122             70  36.8   27      No\n",
       "765            5      121             72  26.2   30      No\n",
       "766            1      126             60  30.1   47     Yes\n",
       "767            1       93             70  30.4   23      No\n",
       "\n",
       "[697 rows x 6 columns]"
      ]
     },
     "execution_count": 68,
     "metadata": {},
     "output_type": "execute_result"
    }
   ],
   "source": [
    "ds"
   ]
  },
  {
   "cell_type": "code",
   "execution_count": 69,
   "id": "7d44515d",
   "metadata": {},
   "outputs": [],
   "source": [
    "from sklearn.model_selection import GridSearchCV\n",
    "from jcopml.tuning import grid_search_params as gsp\n",
    "from sklearn.model_selection import RandomizedSearchCV\n",
    "from jcopml.tuning import random_search_params as rsp"
   ]
  },
  {
   "cell_type": "code",
   "execution_count": 44,
   "id": "f9f9eeef",
   "metadata": {},
   "outputs": [
    {
     "name": "stdout",
     "output_type": "stream",
     "text": [
      "Fitting 2 folds for each of 10 candidates, totalling 20 fits\n",
      "{'algo__C': 0.17670169402947963, 'algo__fit_intercept': True}\n",
      "0.7719928186714542 0.7702031922848818 0.7714285714285715\n",
      "\n",
      "Fitting 3 folds for each of 10 candidates, totalling 30 fits\n",
      "{'algo__C': 0.17670169402947963, 'algo__fit_intercept': True}\n",
      "0.7719928186714542 0.7702121476315025 0.7714285714285715\n",
      "\n",
      "Fitting 4 folds for each of 10 candidates, totalling 40 fits\n",
      "{'algo__C': 0.17670169402947963, 'algo__fit_intercept': True}\n",
      "0.7719928186714542 0.775603802672148 0.7714285714285715\n",
      "\n",
      "Fitting 5 folds for each of 10 candidates, totalling 50 fits\n",
      "{'algo__C': 0.17670169402947963, 'algo__fit_intercept': True}\n",
      "0.7719928186714542 0.7702380952380953 0.7714285714285715\n",
      "\n",
      "Fitting 6 folds for each of 10 candidates, totalling 60 fits\n",
      "{'algo__C': 0.17670169402947963, 'algo__fit_intercept': True}\n",
      "0.7719928186714542 0.7683496961196821 0.7714285714285715\n",
      "\n",
      "Fitting 7 folds for each of 10 candidates, totalling 70 fits\n",
      "{'algo__C': 0.47314746448150063, 'algo__fit_intercept': True}\n",
      "0.7719928186714542 0.7755198915009043 0.7642857142857142\n",
      "\n",
      "Fitting 8 folds for each of 10 candidates, totalling 80 fits\n",
      "{'algo__C': 3.907967156822884, 'algo__fit_intercept': True}\n",
      "0.7719928186714542 0.7719979296066253 0.7571428571428571\n",
      "\n",
      "Fitting 9 folds for each of 10 candidates, totalling 90 fits\n",
      "{'algo__C': 0.17670169402947963, 'algo__fit_intercept': True}\n",
      "0.7719928186714542 0.7701980139843704 0.7714285714285715\n",
      "\n",
      "Fitting 10 folds for each of 10 candidates, totalling 100 fits\n",
      "{'algo__C': 0.17670169402947963, 'algo__fit_intercept': True}\n",
      "0.7719928186714542 0.7738636363636364 0.7714285714285715\n",
      "\n",
      "Fitting 11 folds for each of 10 candidates, totalling 110 fits\n",
      "{'algo__C': 0.17670169402947963, 'algo__fit_intercept': True}\n",
      "0.7719928186714542 0.7720142602495543 0.7714285714285715\n",
      "\n"
     ]
    }
   ],
   "source": [
    "for i in range (2,12):\n",
    "    model = RandomizedSearchCV(final_logistic, rsp.logreg_params, cv=i, n_iter=10, n_jobs=-1, verbose=1, random_state=42)\n",
    "    model.fit(X_train, y_train)\n",
    "    print(model.best_params_)\n",
    "    print(model.score(X_train, y_train), model.best_score_, model.score(X_test, y_test))\n",
    "    print(\"\")"
   ]
  },
  {
   "cell_type": "code",
   "execution_count": null,
   "id": "b227f840",
   "metadata": {},
   "outputs": [],
   "source": [
    "parameter = {\n",
    "        'algo_log__fit_intercept': [True, False],\n",
    "        'algo_log__C': ([1.e-03, 1.e-02, 1.e-01, 1.e+00, 1.e+01, 1.e+02, 1.e+03])\n",
    "}\n",
    "\n",
    "for i in range (2,12):\n",
    "    model = GridSearchCV(final_logistic, parameter, n_jobs=-1, verbose=1, cv=i)\n",
    "    model.fit(X_train, y_train)\n",
    "    print(model.best_params_)\n",
    "    print(model.score(X_train, y_train), model.best_score_, model.score(X_test, y_test))\n",
    "    print(\"\")"
   ]
  },
  {
   "cell_type": "code",
   "execution_count": 31,
   "id": "ba33dfbe",
   "metadata": {},
   "outputs": [],
   "source": [
    "final_log2 = Pipeline([\n",
    "    ('prep', prep),\n",
    "    ('algo_log', LogisticRegression(C=0.17670169402947963, class_weight={}, \n",
    "                        dual=False, fit_intercept=True,\n",
    "                       intercept_scaling=1, l1_ratio=None, max_iter=1000,\n",
    "                       multi_class='auto', n_jobs=None, penalty='l2',\n",
    "                       random_state=1, solver='lbfgs', tol=0.0001, verbose=0,\n",
    "                       warm_start=False))\n",
    "])"
   ]
  },
  {
   "cell_type": "code",
   "execution_count": 32,
   "id": "a0ac5423",
   "metadata": {},
   "outputs": [
    {
     "name": "stdout",
     "output_type": "stream",
     "text": [
      "Log Train:  0.7719928186714542\n",
      "Log Test:  0.7714285714285715\n"
     ]
    }
   ],
   "source": [
    "final_log2.fit(X_train, y_train)\n",
    "train_log2 = final_log2.score(X_train, y_train)\n",
    "score_log2 = final_log2.score(X_test, y_test)\n",
    "print(\"Log Train: \", train_log2)\n",
    "print(\"Log Test: \", score_log2)"
   ]
  },
  {
   "cell_type": "markdown",
   "id": "6a78ccfa",
   "metadata": {},
   "source": [
    "# Evaluation"
   ]
  },
  {
   "cell_type": "code",
   "execution_count": 33,
   "id": "ceb82feb",
   "metadata": {},
   "outputs": [
    {
     "name": "stdout",
     "output_type": "stream",
     "text": [
      "              precision    recall  f1-score   support\n",
      "\n",
      "          No       0.79      0.89      0.84        93\n",
      "         Yes       0.71      0.53      0.61        47\n",
      "\n",
      "    accuracy                           0.77       140\n",
      "   macro avg       0.75      0.71      0.72       140\n",
      "weighted avg       0.76      0.77      0.76       140\n",
      "\n"
     ]
    }
   ],
   "source": [
    "#Check performa model menggunakan classification_report\n",
    "from sklearn.metrics import classification_report\n",
    "y_pred_knn = final_log2.predict(X_test)\n",
    "print(classification_report(y_test, y_pred_knn))"
   ]
  },
  {
   "cell_type": "code",
   "execution_count": 34,
   "id": "739032f2",
   "metadata": {},
   "outputs": [
    {
     "data": {
      "text/plain": [
       "(0.75, 0.71, 0.77, 0.72)"
      ]
     },
     "execution_count": 34,
     "metadata": {},
     "output_type": "execute_result"
    }
   ],
   "source": [
    "from sklearn.metrics import precision_score, recall_score, f1_score, accuracy_score\n",
    "\n",
    "precision = round(precision_score(y_test, y_pred_knn, average='macro'), 2)\n",
    "recall = round(recall_score(y_test, y_pred_knn, average='macro'), 2)\n",
    "accuracy = round(accuracy_score(y_test, y_pred_knn), 2)\n",
    "f1 = round(f1_score(y_test, y_pred_knn, average='macro'), 2)\n",
    "\n",
    "precision,recall,accuracy,f1"
   ]
  },
  {
   "cell_type": "code",
   "execution_count": 124,
   "id": "b5512bce",
   "metadata": {},
   "outputs": [
    {
     "name": "stdout",
     "output_type": "stream",
     "text": [
      "[[83 10]\n",
      " [22 25]]\n"
     ]
    },
    {
     "data": {
      "text/plain": [
       "0.7714285714285715"
      ]
     },
     "execution_count": 124,
     "metadata": {},
     "output_type": "execute_result"
    }
   ],
   "source": [
    "from sklearn.metrics import confusion_matrix, accuracy_score\n",
    "from sklearn import metrics\n",
    "\n",
    "cm = confusion_matrix(y_test, y_pred_knn)\n",
    "print(cm)\n",
    "\n",
    "accuracy_score(y_test, y_pred_knn)"
   ]
  },
  {
   "cell_type": "code",
   "execution_count": 125,
   "id": "3424dfa4",
   "metadata": {},
   "outputs": [
    {
     "data": {
      "image/png": "[encoded data removed]",
      "text/plain": [
       "<Figure size 432x288 with 2 Axes>"
      ]
     },
     "metadata": {
      "needs_background": "light"
     },
     "output_type": "display_data"
    }
   ],
   "source": [
    "from sklearn.metrics import confusion_matrix, accuracy_score\n",
    "from sklearn import metrics\n",
    "\n",
    "cm_display = metrics.ConfusionMatrixDisplay(confusion_matrix = cm, display_labels = ['0', '1'])\n",
    "\n",
    "cm_display.plot()\n",
    "plt.show()"
   ]
  },
  {
   "cell_type": "markdown",
   "id": "ff7a3a15",
   "metadata": {},
   "source": [
    "# Predict"
   ]
  },
  {
   "cell_type": "code",
   "execution_count": 35,
   "id": "7cedcfaa",
   "metadata": {},
   "outputs": [
    {
     "data": {
      "text/plain": [
       "Index(['Pregnancies', 'Glucose', 'BloodPressure', 'BMI', 'Age'], dtype='object')"
      ]
     },
     "execution_count": 35,
     "metadata": {},
     "output_type": "execute_result"
    }
   ],
   "source": [
    "X_train.columns"
   ]
  },
  {
   "cell_type": "markdown",
   "id": "73508a67",
   "metadata": {},
   "source": [
    "### Hitung BMI"
   ]
  },
  {
   "cell_type": "code",
   "execution_count": 54,
   "id": "3f0a2b2c",
   "metadata": {},
   "outputs": [
    {
     "name": "stdout",
     "output_type": "stream",
     "text": [
      "Masukan Tinggi: 175\n",
      "Masukan Berat: 80\n",
      "BMI anda:  26.122448979591837\n"
     ]
    }
   ],
   "source": [
    "tinggi = float(input('Masukan Tinggi: '))\n",
    "berat = float(input('Masukan Berat: '))\n",
    "tinggi /= 100\n",
    "bmi = berat / tinggi ** 2\n",
    "print('BMI anda: ', bmi)"
   ]
  },
  {
   "cell_type": "code",
   "execution_count": 36,
   "id": "4c7c9b02",
   "metadata": {},
   "outputs": [
    {
     "name": "stdout",
     "output_type": "stream",
     "text": [
      "Masukan Jumlah kehamilan: 0\n",
      "Masukan Glukosa: 170\n",
      "Masukan Tekanan Darah (Diastolik): 78\n",
      "Masukan BMI: 28\n",
      "Masukan Umur: 55\n",
      "  Pregnancies  Glucose  BloodPressure   BMI   Age Outcome\n",
      "          0.0    170.0           78.0  28.0  55.0     Yes\n"
     ]
    }
   ],
   "source": [
    "test_data = []\n",
    "dt = []\n",
    "\n",
    "hml = float(input('Masukan Jumlah kehamilan: '))\n",
    "glu = float(input('Masukan Glukosa: '))\n",
    "dia = float(input('Masukan Tekanan Darah (Diastolik): '))\n",
    "bod = float(input('Masukan BMI: '))\n",
    "age = float(input('Masukan Umur: '))\n",
    "\n",
    "dt.append(hml)\n",
    "dt.append(glu)\n",
    "dt.append(dia)\n",
    "dt.append(bod)\n",
    "dt.append(age)\n",
    "\n",
    "test_data.append(dt)\n",
    "# test_data\n",
    "\n",
    "X_pred = pd.DataFrame(test_data, index=[''], columns=X.columns)\n",
    "X_pred['Outcome'] = final_log2.predict(X_pred)\n",
    "print(X_pred)"
   ]
  },
  {
   "cell_type": "markdown",
   "id": "2741b683",
   "metadata": {},
   "source": [
    "# Save Model"
   ]
  },
  {
   "cell_type": "code",
   "execution_count": 37,
   "id": "228c1057",
   "metadata": {},
   "outputs": [],
   "source": [
    "import joblib\n",
    "import pickle"
   ]
  },
  {
   "cell_type": "code",
   "execution_count": 38,
   "id": "938ab454",
   "metadata": {},
   "outputs": [
    {
     "data": {
      "text/plain": [
       "['model_77_new_edit.pkl']"
      ]
     },
     "execution_count": 38,
     "metadata": {},
     "output_type": "execute_result"
    }
   ],
   "source": [
    "# save\n",
    "joblib_file = 'model_77_new_edit.pkl'\n",
    "joblib.dump(final_log2, joblib_file)"
   ]
  },
  {
   "cell_type": "code",
   "execution_count": null,
   "id": "6482bc76",
   "metadata": {},
   "outputs": [],
   "source": [
    "# save\n",
    "joblib_file = 'model.h5'\n",
    "joblib.dump(final_knn2, joblib_file)"
   ]
  },
  {
   "cell_type": "code",
   "execution_count": null,
   "id": "40ba4264",
   "metadata": {},
   "outputs": [],
   "source": [
    "# save\n",
    "joblib_file = 'model.model'\n",
    "joblib.dump(final_knn2, joblib_file)"
   ]
  },
  {
   "cell_type": "markdown",
   "id": "dd23690d",
   "metadata": {},
   "source": [
    "# Test"
   ]
  },
  {
   "cell_type": "code",
   "execution_count": 59,
   "id": "9ce43f83",
   "metadata": {},
   "outputs": [],
   "source": [
    "loaded_model = joblib.load('model_77_new.pkl')\n",
    "# result = loaded_model.score(X_test, y_test)\n",
    "# print(result)"
   ]
  },
  {
   "cell_type": "code",
   "execution_count": 61,
   "id": "72ba13d3",
   "metadata": {},
   "outputs": [
    {
     "name": "stdout",
     "output_type": "stream",
     "text": [
      "Masukan Jumlah kehamilan: 5\n",
      "Masukan Glukosa: 150\n",
      "Masukan Tekanan Darah (Diastolik): 70\n",
      "Masukan BMI: 26\n",
      "Masukan Umur: 51\n",
      "  Pregnancies  Glucose  BloodPressure   BMI   Age  Outcome\n",
      "          5.0    150.0           70.0  26.0  51.0        1\n"
     ]
    }
   ],
   "source": [
    "test_data = []\n",
    "dt = []\n",
    "\n",
    "hml = float(input('Masukan Jumlah kehamilan: '))\n",
    "glu = float(input('Masukan Glukosa: '))\n",
    "dia = float(input('Masukan Tekanan Darah (Diastolik): '))\n",
    "bod = float(input('Masukan BMI: '))\n",
    "age = float(input('Masukan Umur: '))\n",
    "\n",
    "dt.append(hml)\n",
    "dt.append(glu)\n",
    "dt.append(dia)\n",
    "dt.append(bod)\n",
    "dt.append(age)\n",
    "\n",
    "test_data.append(dt)\n",
    "# test_data\n",
    "\n",
    "X_pred = pd.DataFrame(test_data, index=[''], columns=X.columns)\n",
    "X_pred['Outcome'] = loaded_model.predict(X_pred)\n",
    "print(X_pred)"
   ]
  }
 ],
 "metadata": {
  "kernelspec": {
   "display_name": "Python 3 (ipykernel)",
   "language": "python",
   "name": "python3"
  },
  "language_info": {
   "codemirror_mode": {
    "name": "ipython",
    "version": 3
   },
   "file_extension": ".py",
   "mimetype": "text/x-python",
   "name": "python",
   "nbconvert_exporter": "python",
   "pygments_lexer": "ipython3",
   "version": "3.9.12"
  },
  "varInspector": {
   "cols": {
    "lenName": 16,
    "lenType": 16,
    "lenVar": 40
   },
   "kernels_config": {
    "python": {
     "delete_cmd_postfix": "",
     "delete_cmd_prefix": "del ",
     "library": "var_list.py",
     "varRefreshCmd": "print(var_dic_list())"
    },
    "r": {
     "delete_cmd_postfix": ") ",
     "delete_cmd_prefix": "rm(",
     "library": "var_list.r",
     "varRefreshCmd": "cat(var_dic_list()) "
    }
   },
   "types_to_exclude": [
    "module",
    "function",
    "builtin_function_or_method",
    "instance",
    "_Feature"
   ],
   "window_display": false
  }
 },
 "nbformat": 4,
 "nbformat_minor": 5
}
